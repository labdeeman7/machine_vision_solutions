{
 "cells": [
  {
   "cell_type": "markdown",
   "metadata": {},
   "source": [
    "# Oluwatosin Alabi\n",
    "\n",
    "# Practical 7 - Part 1A\n",
    "\n",
    "The aim of part 1A is to calculate the homography that best maps two sets of points to one another.  We will (eventually) use this for creating panoramas, and for calculating the 3D pose of planes.  You should use this\n",
    "template for your code and fill in the missing sections marked \"TO DO\"\n"
   ]
  },
  {
   "cell_type": "markdown",
   "metadata": {},
   "source": [
    "## Import libraries "
   ]
  },
  {
   "cell_type": "code",
   "execution_count": 1,
   "metadata": {},
   "outputs": [],
   "source": [
    "%matplotlib inline\n",
    "import os \n",
    "import numpy as np\n",
    "import matplotlib.pyplot as plt\n",
    "import scipy.io as sio\n"
   ]
  },
  {
   "cell_type": "code",
   "execution_count": 2,
   "metadata": {},
   "outputs": [],
   "source": [
    "#test code\n",
    "# X = np.array([[0.6, 0.7, -100.],\n",
    "#               [1.0, 0.6, 50.],\n",
    "#               [0.001, 0.002, 1.0]])\n",
    "# X[0:2,1]\n",
    "# np.tile([pts2Hom[2,:]],(2,1))\n",
    "# a = np.array([0, 1, 2])\n",
    "# a\n",
    "# c = np.tile(a,(2,1))\n",
    "# np.concatenate((pts1Cart, np.ones((1,pts1Cart.shape[1]))), axis=0)\n",
    "# np.concatenate((np.zeros((3)),np.ones((3)) ), axis=0)"
   ]
  },
  {
   "cell_type": "markdown",
   "metadata": {},
   "source": [
    "## Test case formulation\n",
    "\n",
    "To start with, let's set up some start points `pts1Cart` and a homography, `H`, that we can use to generate target points `pts2Cart`. We'll also add some noise to `pts2Cart` to simulate a real world environment. The challenge is to find the same homography, or as close as noise allows, given `pts1Cart` and `pts2Cart`.\n",
    "\n",
    "__NOTE:__ It may be helpful to set `noiseLevel` to 0 to start with so that you can check if your solution is spot on while debugging. Make sure you set it back to some value, here we use 4, when you're confident your solution works."
   ]
  },
  {
   "cell_type": "code",
   "execution_count": 3,
   "metadata": {},
   "outputs": [
    {
     "name": "stdout",
     "output_type": "stream",
     "text": [
      "pts1Cart [[240.5     16.8351  33.589  164.2696 149.1911]\n",
      " [248.877  193.589  251.3901 168.4581 228.7723]]\n",
      "pts2Cart [[128.98368768  30.53781759  60.46725069  79.74468636  96.55226848]\n",
      " [254.1092858  130.83487318 154.41703959 211.65806116 210.22162233]]\n"
     ]
    }
   ],
   "source": [
    "# Define a set of two-dimensional Cartesian points\n",
    "pts1Cart = np.array([[240.5000, 16.8351, 33.5890, 164.2696, 149.1911],\n",
    "                    [248.8770, 193.5890, 251.3901, 168.4581, 228.7723]])\n",
    "print (\"pts1Cart\",pts1Cart) \n",
    "# Convert points into homogeneous representation\n",
    "pts1Hom = np.concatenate((pts1Cart, np.ones((1,pts1Cart.shape[1]))), axis=0)\n",
    "\n",
    "# Define a homography\n",
    "H = np.array([[0.6, 0.7, -100.],\n",
    "              [1.0, 0.6, 50.],\n",
    "              [0.001, 0.002, 1.0]])\n",
    "\n",
    "# Apply a homography to the points\n",
    "pts2Hom = np.matmul(H,pts1Hom)\n",
    "\n",
    "# Convert back to Cartesian coordinates\n",
    "pts2Cart = pts2Hom[0:2,:] / np.tile([pts2Hom[2,:]],(2,1))\n",
    "\n",
    "\n",
    "\n",
    "# Add a small amount of noise. Set this to zero to begin with to see if your homography solution is spot on.\n",
    "noiseLevel = 2.0 #0.0 #5.0\n",
    "pts2Cart = pts2Cart + np.random.normal(0, noiseLevel, pts2Cart.shape)\n",
    "print (\"pts2Cart\",pts2Cart)"
   ]
  },
  {
   "cell_type": "markdown",
   "metadata": {},
   "source": [
    "## Plotting\n",
    "\n",
    "Let's plot the the first original set of points, `pts1Cart`, in blue and the second set of points, `pts2Cart`, in red. "
   ]
  },
  {
   "cell_type": "code",
   "execution_count": 4,
   "metadata": {},
   "outputs": [
    {
     "data": {
      "image/png": "[encoded data removed]",
      "text/plain": [
       "<Figure size 432x288 with 1 Axes>"
      ]
     },
     "metadata": {
      "needs_background": "light"
     },
     "output_type": "display_data"
    }
   ],
   "source": [
    "# Plot a green line between pairs of start points (blue) and transformed points (red).|\n",
    "nPoint = pts1Cart.shape[1]\n",
    "for cPoint in range(0, nPoint):\n",
    "    plt.plot([pts1Cart[0,cPoint], pts2Cart[0,cPoint]], [pts1Cart[1,cPoint], pts2Cart[1,cPoint]],'g-')\n",
    "    plt.plot(pts1Cart[0,cPoint],pts1Cart[1,cPoint],'b.', pts2Cart[0,cPoint],pts2Cart[1,cPoint],'r.') \n",
    "\n",
    "plt.show()"
   ]
  },
  {
   "cell_type": "markdown",
   "metadata": {},
   "source": [
    "__The diagram above shows two sets of points, blue points and red points. A homography maps the blue points to corresponding red points__"
   ]
  },
  {
   "cell_type": "markdown",
   "metadata": {},
   "source": [
    "## Homography estimation time!\n",
    "\n",
    "We've formulated our test example; now our goal is to estimate the homography that maps the first set of points to the second set of points.\n",
    "\n",
    "### ****TO DO****: Fill in the details of these routines (solveAXEqualsZero and calcBestHomography). "
   ]
  },
  {
   "cell_type": "code",
   "execution_count": 5,
   "metadata": {},
   "outputs": [],
   "source": [
    "def solveAXEqualsZero(A):\n",
    "    # TO DO: Write this routine - it should solve Ah = 0. You can do this using SVD. Consult your notes! \n",
    "    # Hint: SVD will be involved.\n",
    "    u, s, h = np.linalg.svd(A)\n",
    "    \n",
    "    new_h = np.transpose(h)\n",
    "    \n",
    "    last_column = new_h[:,-1]\n",
    "    return last_column"
   ]
  },
  {
   "cell_type": "code",
   "execution_count": 6,
   "metadata": {},
   "outputs": [],
   "source": [
    "def calcBestHomography(pts1Cart, pts2Cart):\n",
    "    \n",
    "    # This function should apply the direct linear transform (DLT) algorithm to calculate the best \n",
    "    # homography that maps the cartesian points in pts1Cart to their corresonding matching cartesian poitns \n",
    "    # in pts2Cart.\n",
    "    \n",
    "    # This function calls solveAXEqualsZero. Make sure you are wary of how to reshape h into a 3 by 3 matrix. \n",
    "\n",
    "    n_points = pts1Cart.shape[1]\n",
    "    \n",
    "    # TO DO: replace this:\n",
    "\n",
    "    # TO DO: \n",
    "    # First convert points into homogeneous representation\n",
    "    # Hint: we've done this before  in the skeleton code we provide.\n",
    "    pts1Hom = np.concatenate((pts1Cart, np.ones((1,pts1Cart.shape[1]))), axis=0)\n",
    "    pts2Hom = np.concatenate((pts2Cart, np.ones((1,pts2Cart.shape[1]))), axis=0)\n",
    "    # Then construct the matrix A, size (n_points * 2, 9)\n",
    "    A = np.ones((n_points * 2, 9));\n",
    "    \n",
    "    #create matrix to solve AX = 0\n",
    "    \n",
    "    for i in range(n_points):\n",
    "#         y_value = pts2Hom[1,i]\n",
    "        first_row = np.concatenate((np.zeros(3),-pts1Hom[:,i], pts2Hom[1,i]*pts1Hom[:,i]), axis=0);\n",
    "        second_row = np.concatenate((pts1Hom[:,i],np.zeros(3), -pts2Hom[0,i]*pts1Hom[:,i]), axis=0);\n",
    "        combined_rows = np.vstack((first_row, second_row))\n",
    "        A[2*i:2*(i+1)] = combined_rows\n",
    "    # Consult the notes!\n",
    "    \n",
    "    H = solveAXEqualsZero(A)\n",
    "    print(\"H before, \", H)\n",
    "    H = H.reshape(3,3)\n",
    "    print(H)\n",
    "    # Solve Ah = 0 using solveAXEqualsZero and get h.\n",
    "    \n",
    "    # Reshape h into the matrix H, values of h go first into rows of H\n",
    "    \n",
    "    \n",
    "    return H"
   ]
  },
  {
   "cell_type": "code",
   "execution_count": 7,
   "metadata": {},
   "outputs": [],
   "source": [
    "#test\n",
    "# pts2Cart\n",
    "# calcBestHomography(pts1Cart, pts2Cart)\n",
    "# f = np.ones((8,9))\n",
    "# f[0:2,:] = np.zeros((2,9))\n",
    "# f"
   ]
  },
  {
   "cell_type": "markdown",
   "metadata": {},
   "source": [
    "## Test time!\n",
    "\n",
    "Time to put it all together. \n",
    "\n",
    "Now we need a way of measuring how well our mapping does. To do this we will apply our estimated mapping, `HEst`, to `pts1Cart` and obtain estimated points `pts2EstCart`. We will compare `pts2EstCart` and `pts2Cart` using a sum of squared difference to see how well our solution at least approximates the transformed noisy points `pts2Cart`.\n",
    "\n",
    "Red points on the plot are the noisy points we observe, `pts2Cart`, and the magenta points are the transformed points, `pts2EstCart`, that we get when we apply our estimated homography on `pts1Cart`. The black lines represent the error between both points; if you've set `noiseLevel` to 0, then `sqDiff` should be 0 and the points should overlap perfectly."
   ]
  },
  {
   "cell_type": "code",
   "execution_count": 8,
   "metadata": {},
   "outputs": [
    {
     "name": "stdout",
     "output_type": "stream",
     "text": [
      "H before,  [-5.65596001e-03 -6.30936167e-03  9.52560821e-01 -8.82204080e-03\n",
      " -5.84716889e-03 -3.03940634e-01 -9.20522223e-06 -2.03303366e-05\n",
      " -8.00976152e-03]\n",
      "[[-5.65596001e-03 -6.30936167e-03  9.52560821e-01]\n",
      " [-8.82204080e-03 -5.84716889e-03 -3.03940634e-01]\n",
      " [-9.20522223e-06 -2.03303366e-05 -8.00976152e-03]]\n",
      "Sqaured difference between pts2Cart and pts2EstCart is: 0.79\n"
     ]
    },
    {
     "data": {
      "image/png": "[encoded data removed]",
      "text/plain": [
       "<Figure size 432x288 with 1 Axes>"
      ]
     },
     "metadata": {
      "needs_background": "light"
     },
     "output_type": "display_data"
    }
   ],
   "source": [
    "# Replace this with a call to the function calcBestHomography. You'll need to figure out which way around the \n",
    "# points go in the function, i.e. which direction this homography transforms points from and to. The ordering \n",
    "# is dead simple for now but acts as a simple exercise for what comes in later parts of this practical.\n",
    "HEst = calcBestHomography(pts1Cart, pts2Cart)\n",
    "\n",
    "# Apply estimated homography to points\n",
    "pts2EstHom = np.matmul(HEst,pts1Hom)\n",
    "\n",
    "# Convert back to Cartesian coordinates\n",
    "pts2EstCart = pts2EstHom[0:2,:] / np.tile([pts2EstHom[2,:]],(2,1))\n",
    "\n",
    "# Calculate the mean squared distance from actual points\n",
    "sqDiff = np.mean(sum((pts2Cart - pts2EstCart)**2))\n",
    "\n",
    "print(\"Sqaured difference between pts2Cart and pts2EstCart is: %.2f\" % sqDiff)\n",
    "\n",
    "# Draw figure with points before and after applying the estimated homography\n",
    "nPoint = pts1Cart.shape[1]\n",
    "\n",
    "# Plot a black line between pairs of actual points (red) and estimated points (magenta)\n",
    "for cPoint in range(0, nPoint):\n",
    "    plt.plot([pts2Cart[0,cPoint], pts2EstCart[0,cPoint]], [pts2Cart[1,cPoint], pts2EstCart[1,cPoint]],'k-')\n",
    "    plt.plot(pts2Cart[0,cPoint],pts2Cart[1,cPoint],'r.',pts2EstCart[0,cPoint],pts2EstCart[1,cPoint],'m.') \n",
    "\n",
    "plt.show()"
   ]
  },
  {
   "cell_type": "markdown",
   "metadata": {},
   "source": [
    "__The homography estimated by the routine performs a very similar transformation as the original homography__ "
   ]
  },
  {
   "cell_type": "markdown",
   "metadata": {},
   "source": [
    "__The accuracy of the homography is proportional to the amount of noise in the readings which is quite logical__"
   ]
  },
  {
   "cell_type": "markdown",
   "metadata": {},
   "source": [
    "## Other things **** TO DO ****\n",
    "\n",
    "1: Convince yourself that the homography is ambiguous up to scale (by\n",
    "multiplying it by a constant factor and showing it does the same thing).\n",
    "Can you see why this is the case mathematically?\n",
    "\n",
    "2: Show empirically that your homography routine can EXACTLY map any four points to any\n",
    "other four points."
   ]
  },
  {
   "cell_type": "markdown",
   "metadata": {},
   "source": [
    "__Scale the hompgraphy and check what happens__"
   ]
  },
  {
   "cell_type": "code",
   "execution_count": 9,
   "metadata": {},
   "outputs": [
    {
     "name": "stdout",
     "output_type": "stream",
     "text": [
      "H before,  [-5.65596001e-03 -6.30936167e-03  9.52560821e-01 -8.82204080e-03\n",
      " -5.84716889e-03 -3.03940634e-01 -9.20522223e-06 -2.03303366e-05\n",
      " -8.00976152e-03]\n",
      "[[-5.65596001e-03 -6.30936167e-03  9.52560821e-01]\n",
      " [-8.82204080e-03 -5.84716889e-03 -3.03940634e-01]\n",
      " [-9.20522223e-06 -2.03303366e-05 -8.00976152e-03]]\n",
      "Sqaured difference between pts2Cart and pts2EstCart is: 0.79\n"
     ]
    },
    {
     "data": {
      "image/png": "[encoded data removed]",
      "text/plain": [
       "<Figure size 432x288 with 1 Axes>"
      ]
     },
     "metadata": {
      "needs_background": "light"
     },
     "output_type": "display_data"
    }
   ],
   "source": [
    "\n",
    "HEst = calcBestHomography(pts1Cart, pts2Cart)\n",
    "\n",
    "# Scale homography\n",
    "\n",
    "HEst = 3*HEst; \n",
    "\n",
    "# Apply estimated homography to points\n",
    "pts2EstHom = np.matmul(HEst,pts1Hom)\n",
    "\n",
    "# Convert back to Cartesian coordinates\n",
    "pts2EstCart = pts2EstHom[0:2,:] / np.tile([pts2EstHom[2,:]],(2,1))\n",
    "\n",
    "# Calculate the mean squared distance from actual points\n",
    "sqDiff = np.mean(sum((pts2Cart - pts2EstCart)**2))\n",
    "\n",
    "print(\"Sqaured difference between pts2Cart and pts2EstCart is: %.2f\" % sqDiff)\n",
    "\n",
    "# Draw figure with points before and after applying the estimated homography\n",
    "nPoint = pts1Cart.shape[1]\n",
    "\n",
    "# Plot a black line between pairs of actual points (red) and estimated points (magenta)\n",
    "for cPoint in range(0, nPoint):\n",
    "    plt.plot([pts2Cart[0,cPoint], pts2EstCart[0,cPoint]], [pts2Cart[1,cPoint], pts2EstCart[1,cPoint]],'k-')\n",
    "    plt.plot(pts2Cart[0,cPoint],pts2Cart[1,cPoint],'r.',pts2EstCart[0,cPoint],pts2EstCart[1,cPoint],'m.') \n",
    "\n",
    "plt.show()"
   ]
  },
  {
   "cell_type": "markdown",
   "metadata": {},
   "source": [
    "__Scaling the homography produces the same graph and the same value for squared difference between pts2cart and pts2__"
   ]
  },
  {
   "cell_type": "markdown",
   "metadata": {},
   "source": [
    "__Converting from homogeneous coordinates to cartesian coordinates involves division by the z coordinate values for each point. When scaling is done on an homography, the z coordinates are also scaled. When converting back to cartesian coordinates, we divide by the SCALED z value, which essentially removes the original scaling__"
   ]
  },
  {
   "cell_type": "markdown",
   "metadata": {},
   "source": [
    "**TO DO**\n",
    "Show empirically that your homography routine can EXACTLY map any four points to any other four points."
   ]
  },
  {
   "cell_type": "code",
   "execution_count": 10,
   "metadata": {},
   "outputs": [
    {
     "name": "stdout",
     "output_type": "stream",
     "text": [
      "pts1CartTest [[210.5     36.8351  23.589  164.2696  39.2345]\n",
      " [248.877  190.589  261.2356 100.4521 128.7723]]\n",
      "pts2CartTest [[43.34023826 24.24325709 25.06332294 44.45595247 18.98510183]\n",
      " [68.12514146 47.37607326 44.29652021 79.71494387 46.46209371]]\n"
     ]
    }
   ],
   "source": [
    "# Trying some other sets of points\n",
    "pts1CartTest = np.array([[210.5000, 36.8351, 23.5890, 164.2696, 39.2345],\n",
    "                    [248.8770, 190.5890, 261.2356, 100.4521, 128.7723]])\n",
    "print (\"pts1CartTest\",pts1CartTest) \n",
    "# Convert points into homogeneous representation\n",
    "pts1HomTest = np.concatenate((pts1CartTest, np.ones((1,pts1CartTest.shape[1]))), axis=0)\n",
    "\n",
    "# Define a homography\n",
    "HTest = np.array([[0.8, 0.7, -50.],\n",
    "              [1.0, 0.9, 20.],\n",
    "              [0.003, 0.02, 1.0]])\n",
    "\n",
    "# Apply a homography to the points\n",
    "pts2HomTest = np.matmul(HTest,pts1HomTest)\n",
    "\n",
    "# Convert back to Cartesian coordinates\n",
    "pts2CartTest = pts2HomTest[0:2,:] / np.tile([pts2HomTest[2,:]],(2,1))\n",
    "\n",
    "\n",
    "\n",
    "# Add a small amount of noise. Set this to zero to begin with to see if your homography solution is spot on.\n",
    "noiseLevel = 1.0 #0.0 #5.0\n",
    "pts2CartTest = pts2CartTest + np.random.normal(0, noiseLevel, pts2CartTest.shape)\n",
    "print (\"pts2CartTest\",pts2CartTest)"
   ]
  },
  {
   "cell_type": "code",
   "execution_count": 11,
   "metadata": {},
   "outputs": [
    {
     "name": "stdout",
     "output_type": "stream",
     "text": [
      "H before,  [ 8.17165466e-03  5.47625201e-03 -7.36406873e-01  1.20273974e-02\n",
      "  7.43024502e-03 -6.76262357e-01  1.14307274e-04  1.56924283e-04\n",
      " -8.80181998e-03]\n",
      "[[ 8.17165466e-03  5.47625201e-03 -7.36406873e-01]\n",
      " [ 1.20273974e-02  7.43024502e-03 -6.76262357e-01]\n",
      " [ 1.14307274e-04  1.56924283e-04 -8.80181998e-03]]\n",
      "Sqaured difference between pts2Cart and pts2EstCart is: 0.46\n"
     ]
    },
    {
     "data": {
      "image/png": "[encoded data removed]",
      "text/plain": [
       "<Figure size 432x288 with 1 Axes>"
      ]
     },
     "metadata": {
      "needs_background": "light"
     },
     "output_type": "display_data"
    }
   ],
   "source": [
    "HEstTest = calcBestHomography(pts1CartTest, pts2CartTest)\n",
    "\n",
    "# Apply estimated homography to points\n",
    "pts2EstHomTest = np.matmul(HEstTest,pts1HomTest)\n",
    "\n",
    "# Convert back to Cartesian coordinates\n",
    "pts2EstCartTest = pts2EstHomTest[0:2,:] / np.tile([pts2EstHomTest[2,:]],(2,1))\n",
    "\n",
    "# Calculate the mean squared distance from actual points\n",
    "sqDiffTest = np.mean(sum((pts2CartTest - pts2EstCartTest)**2))\n",
    "\n",
    "print(\"Sqaured difference between pts2Cart and pts2EstCart is: %.2f\" % sqDiffTest)\n",
    "\n",
    "# Draw figure with points before and after applying the estimated homography\n",
    "nPoint = pts1CartTest.shape[1]\n",
    "\n",
    "# Plot a black line between pairs of actual points (red) and estimated points (magenta)\n",
    "for cPoint in range(0, nPoint):\n",
    "    plt.plot([pts2CartTest[0,cPoint], pts2EstCartTest[0,cPoint]], [pts2CartTest[1,cPoint], pts2EstCartTest[1,cPoint]],'k-')\n",
    "    plt.plot(pts2CartTest[0,cPoint],pts2CartTest[1,cPoint],'r.',pts2EstCartTest[0,cPoint],pts2EstCartTest[1,cPoint],'m.') \n",
    "\n",
    "plt.show()"
   ]
  },
  {
   "cell_type": "markdown",
   "metadata": {},
   "source": [
    "__Trying various values of points ad different homographies, the estimated homography still makes a very reasonable estimation. The accuracy of estimation depends on noise levels.__"
   ]
  }
 ],
 "metadata": {
  "kernelspec": {
   "display_name": "Python 3",
   "language": "python",
   "name": "python3"
  },
  "language_info": {
   "codemirror_mode": {
    "name": "ipython",
    "version": 3
   },
   "file_extension": ".py",
   "mimetype": "text/x-python",
   "name": "python",
   "nbconvert_exporter": "python",
   "pygments_lexer": "ipython3",
   "version": "3.7.3"
  }
 },
 "nbformat": 4,
 "nbformat_minor": 2
}
